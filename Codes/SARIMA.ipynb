{
  "nbformat": 4,
  "nbformat_minor": 0,
  "metadata": {
    "colab": {
      "name": "SARIMAX.ipynb",
      "provenance": [],
      "collapsed_sections": []
    },
    "kernelspec": {
      "display_name": "Python 3",
      "language": "python",
      "name": "python3"
    },
    "language_info": {
      "codemirror_mode": {
        "name": "ipython",
        "version": 3
      },
      "file_extension": ".py",
      "mimetype": "text/x-python",
      "name": "python",
      "nbconvert_exporter": "python",
      "pygments_lexer": "ipython3",
      "version": "3.7.6"
    }
  },
  "cells": [
    {
      "cell_type": "markdown",
      "metadata": {
        "id": "oV0YOCX7N9Pg"
      },
      "source": [
        "**Meal Detection using auto regression bases SARIMA model**"
      ]
    },
    {
      "cell_type": "code",
      "metadata": {
        "colab": {
          "base_uri": "https://localhost:8080/"
        },
        "id": "0hjdmPuSM66q",
        "outputId": "2ab406d1-eb87-4548-a387-134379f0f4a4"
      },
      "source": [
        "from google.colab import drive\n",
        "drive.mount('/content/gdrive')"
      ],
      "execution_count": null,
      "outputs": [
        {
          "output_type": "stream",
          "text": [
            "Mounted at /content/gdrive\n"
          ],
          "name": "stdout"
        }
      ]
    },
    {
      "cell_type": "code",
      "metadata": {
        "colab": {
          "base_uri": "https://localhost:8080/"
        },
        "id": "GjWFcpmCNNM1",
        "outputId": "90c42d3f-049a-42cf-fd76-e45f68b06025"
      },
      "source": [
        "%cd /content/gdrive/My\\ Drive/MC_Project/"
      ],
      "execution_count": null,
      "outputs": [
        {
          "output_type": "stream",
          "text": [
            "/content/gdrive/My Drive/MC_Project\n"
          ],
          "name": "stdout"
        }
      ]
    },
    {
      "cell_type": "markdown",
      "metadata": {
        "id": "6RjGiD5ZKD84"
      },
      "source": [
        "#### Import necessary libraries"
      ]
    },
    {
      "cell_type": "code",
      "metadata": {
        "id": "lw1C-r1nvWjZ"
      },
      "source": [
        "import warnings\n",
        "import itertools\n",
        "import numpy as np\n",
        "import os\n",
        "import matplotlib.pyplot as plt\n",
        "warnings.filterwarnings(\"ignore\", category=DeprecationWarning)\n",
        "import pandas as pd\n",
        "import statsmodels.api as sm\n",
        "from pandas.plotting import autocorrelation_plot"
      ],
      "execution_count": null,
      "outputs": []
    },
    {
      "cell_type": "code",
      "metadata": {
        "id": "sAXLDvcKv3uJ"
      },
      "source": [
        "data = pd.read_csv(os.getcwd() + '/Final_Data.csv')\n",
        "data = data['Value CGM']\n"
      ],
      "execution_count": null,
      "outputs": []
    },
    {
      "cell_type": "markdown",
      "metadata": {
        "id": "IjkGePvFKD87"
      },
      "source": [
        "#### Plotting Autocorrelation and Partial Autocorrelation "
      ]
    },
    {
      "cell_type": "code",
      "metadata": {
        "colab": {
          "base_uri": "https://localhost:8080/",
          "height": 281
        },
        "id": "L_SAf8uMc33i",
        "outputId": "3bc7c45a-017b-471b-cbd0-084717a84815"
      },
      "source": [
        "fig, ax = plt.subplots(2,1)\n",
        "fig = sm.graphics.tsa.plot_acf(data, lags=40, ax=ax[0])\n",
        "fig = sm.graphics.tsa.plot_pacf(data, lags=40, ax=ax[1])\n",
        "plt.show()"
      ],
      "execution_count": null,
      "outputs": [
        {
          "output_type": "display_data",
          "data": {
            "image/png": "[encoded data removed]",
            "text/plain": [
              "<Figure size 432x288 with 2 Axes>"
            ]
          },
          "metadata": {
            "tags": [],
            "needs_background": "light"
          }
        }
      ]
    },
    {
      "cell_type": "markdown",
      "metadata": {
        "id": "Ye3O6sqXKD88"
      },
      "source": [
        "#### Calculate relative quality of statistical models for a given data set"
      ]
    },
    {
      "cell_type": "code",
      "metadata": {
        "colab": {
          "base_uri": "https://localhost:8080/"
        },
        "id": "rIw_0uEFwcnf",
        "outputId": "2beb8b62-87b6-4541-ec29-5ca669328fa8"
      },
      "source": [
        "p = d = q = range(0, 3)\n",
        "pdq = list(itertools.product(p, d, q))\n",
        "seasonal_pdq = [(x[0], x[1], x[2], 12) for x in list(itertools.product(p, d, q))]\n",
        "for param in pdq:\n",
        "    for param_seasonal in seasonal_pdq:\n",
        "        try:\n",
        "            mod = sm.tsa.statespace.SARIMAX(data,order=param,seasonal_order=param_seasonal,enforce_stationarity=False,enforce_invertibility=False)\n",
        "            results = mod.fit()\n",
        "            print('ARIMA{}x{}12 - AIC:{}'.format(param,param_seasonal,results.aic))\n",
        "        except: \n",
        "            continue"
      ],
      "execution_count": null,
      "outputs": [
        {
          "output_type": "stream",
          "text": [
            "ARIMA(0, 0, 0)x(0, 0, 0, 12)12 - AIC:461399.67425100674\n",
            "ARIMA(0, 0, 0)x(0, 0, 1, 12)12 - AIC:429601.89812909334\n",
            "ARIMA(0, 0, 0)x(0, 0, 2, 12)12 - AIC:413493.1910130037\n",
            "ARIMA(0, 0, 0)x(0, 1, 0, 12)12 - AIC:388958.4182986225\n",
            "ARIMA(0, 0, 0)x(0, 1, 1, 12)12 - AIC:386647.27245840244\n",
            "ARIMA(0, 0, 0)x(0, 1, 2, 12)12 - AIC:378744.91831754596\n",
            "ARIMA(0, 0, 0)x(0, 2, 0, 12)12 - AIC:418421.468058707\n",
            "ARIMA(0, 0, 0)x(0, 2, 1, 12)12 - AIC:388804.00855105853\n"
          ],
          "name": "stdout"
        }
      ]
    },
    {
      "cell_type": "markdown",
      "metadata": {
        "id": "PwZ93zTEKD88"
      },
      "source": [
        "#### Dividing data into train and test data set and fit SARIMA model for prediction using walk forward validation technique"
      ]
    },
    {
      "cell_type": "code",
      "metadata": {
        "id": "oHz7NMtHKD88"
      },
      "source": [
        "def train_model(data):\n",
        "    model = sm.tsa.statespace.SARIMAX(data,\n",
        "                                order=(1 ,1, 1),\n",
        "                                seasonal_order=(1, 0, 1, 12),\n",
        "                                enforce_stationarity=False,\n",
        "                                enforce_invertibility=False).fit();\n",
        "    return model;"
      ],
      "execution_count": null,
      "outputs": []
    },
    {
      "cell_type": "code",
      "metadata": {
        "colab": {
          "base_uri": "https://localhost:8080/"
        },
        "id": "twVQhrpRKD88",
        "outputId": "39b2be73-d9a9-4f7b-fa21-e3021bd285cb"
      },
      "source": [
        "train_size = int(len(data)*0.8);\n",
        "train, test = data[:train_size],data[train_size:]\n",
        "model= train_model(data)\n",
        "print (model.summary())"
      ],
      "execution_count": null,
      "outputs": [
        {
          "output_type": "stream",
          "text": [
            "                                 Statespace Model Results                                 \n",
            "==========================================================================================\n",
            "Dep. Variable:                          Value CGM   No. Observations:                35100\n",
            "Model:             SARIMAX(1, 1, 1)x(1, 0, 1, 12)   Log Likelihood             -142192.158\n",
            "Date:                            Sat, 05 Dec 2020   AIC                         284394.316\n",
            "Time:                                    23:57:15   BIC                         284436.643\n",
            "Sample:                                         0   HQIC                        284407.797\n",
            "                                          - 35100                                         \n",
            "Covariance Type:                              opg                                         \n",
            "==============================================================================\n",
            "                 coef    std err          z      P>|z|      [0.025      0.975]\n",
            "------------------------------------------------------------------------------\n",
            "ar.L1          0.4133      0.015     27.729      0.000       0.384       0.443\n",
            "ma.L1         -0.2177      0.015    -14.056      0.000      -0.248      -0.187\n",
            "ar.S.L12       0.5471      0.164      3.331      0.001       0.225       0.869\n",
            "ma.S.L12      -0.5633      0.162     -3.472      0.001      -0.881      -0.245\n",
            "sigma2       193.9434      0.271    715.362      0.000     193.412     194.475\n",
            "===================================================================================\n",
            "Ljung-Box (Q):                      329.43   Jarque-Bera (JB):           5016256.14\n",
            "Prob(Q):                              0.00   Prob(JB):                         0.00\n",
            "Heteroskedasticity (H):               1.15   Skew:                             2.19\n",
            "Prob(H) (two-sided):                  0.00   Kurtosis:                        61.41\n",
            "===================================================================================\n",
            "\n",
            "Warnings:\n",
            "[1] Covariance matrix calculated using the outer product of gradients (complex-step).\n"
          ],
          "name": "stdout"
        }
      ]
    },
    {
      "cell_type": "code",
      "metadata": {
        "colab": {
          "base_uri": "https://localhost:8080/",
          "height": 419
        },
        "id": "5ligTR38KD88",
        "outputId": "7735eb62-0644-444a-ce31-ce21873e27fe"
      },
      "source": [
        "predictions = model.predict(start=train_size,end=(train_size-1)+len(test));\n",
        "ground_truth = test\n",
        "res = pd.DataFrame();\n",
        "res['Predictions'] = predictions\n",
        "res['Actual'] = ground_truth\n",
        "res"
      ],
      "execution_count": null,
      "outputs": [
        {
          "output_type": "execute_result",
          "data": {
            "text/html": [
              "<div>\n",
              "<style scoped>\n",
              "    .dataframe tbody tr th:only-of-type {\n",
              "        vertical-align: middle;\n",
              "    }\n",
              "\n",
              "    .dataframe tbody tr th {\n",
              "        vertical-align: top;\n",
              "    }\n",
              "\n",
              "    .dataframe thead th {\n",
              "        text-align: right;\n",
              "    }\n",
              "</style>\n",
              "<table border=\"1\" class=\"dataframe\">\n",
              "  <thead>\n",
              "    <tr style=\"text-align: right;\">\n",
              "      <th></th>\n",
              "      <th>Predictions</th>\n",
              "      <th>Actual</th>\n",
              "    </tr>\n",
              "  </thead>\n",
              "  <tbody>\n",
              "    <tr>\n",
              "      <th>28080</th>\n",
              "      <td>89.901086</td>\n",
              "      <td>89.0</td>\n",
              "    </tr>\n",
              "    <tr>\n",
              "      <th>28081</th>\n",
              "      <td>88.220428</td>\n",
              "      <td>84.0</td>\n",
              "    </tr>\n",
              "    <tr>\n",
              "      <th>28082</th>\n",
              "      <td>82.727241</td>\n",
              "      <td>81.0</td>\n",
              "    </tr>\n",
              "    <tr>\n",
              "      <th>28083</th>\n",
              "      <td>80.267290</td>\n",
              "      <td>66.0</td>\n",
              "    </tr>\n",
              "    <tr>\n",
              "      <th>28084</th>\n",
              "      <td>62.983413</td>\n",
              "      <td>57.0</td>\n",
              "    </tr>\n",
              "    <tr>\n",
              "      <th>...</th>\n",
              "      <td>...</td>\n",
              "      <td>...</td>\n",
              "    </tr>\n",
              "    <tr>\n",
              "      <th>35095</th>\n",
              "      <td>313.897796</td>\n",
              "      <td>314.0</td>\n",
              "    </tr>\n",
              "    <tr>\n",
              "      <th>35096</th>\n",
              "      <td>313.632310</td>\n",
              "      <td>314.0</td>\n",
              "    </tr>\n",
              "    <tr>\n",
              "      <th>35097</th>\n",
              "      <td>314.066611</td>\n",
              "      <td>314.0</td>\n",
              "    </tr>\n",
              "    <tr>\n",
              "      <th>35098</th>\n",
              "      <td>313.995955</td>\n",
              "      <td>314.0</td>\n",
              "    </tr>\n",
              "    <tr>\n",
              "      <th>35099</th>\n",
              "      <td>313.896931</td>\n",
              "      <td>314.0</td>\n",
              "    </tr>\n",
              "  </tbody>\n",
              "</table>\n",
              "<p>7020 rows × 2 columns</p>\n",
              "</div>"
            ],
            "text/plain": [
              "       Predictions  Actual\n",
              "28080    89.901086    89.0\n",
              "28081    88.220428    84.0\n",
              "28082    82.727241    81.0\n",
              "28083    80.267290    66.0\n",
              "28084    62.983413    57.0\n",
              "...            ...     ...\n",
              "35095   313.897796   314.0\n",
              "35096   313.632310   314.0\n",
              "35097   314.066611   314.0\n",
              "35098   313.995955   314.0\n",
              "35099   313.896931   314.0\n",
              "\n",
              "[7020 rows x 2 columns]"
            ]
          },
          "metadata": {
            "tags": []
          },
          "execution_count": 38
        }
      ]
    },
    {
      "cell_type": "code",
      "metadata": {
        "colab": {
          "base_uri": "https://localhost:8080/",
          "height": 282
        },
        "id": "QLXj8AWWV-S6",
        "outputId": "26bd9909-d2d0-4309-aa3b-804c16651512"
      },
      "source": [
        "res.plot()"
      ],
      "execution_count": null,
      "outputs": [
        {
          "output_type": "execute_result",
          "data": {
            "text/plain": [
              "<matplotlib.axes._subplots.AxesSubplot at 0x7efbec064438>"
            ]
          },
          "metadata": {
            "tags": []
          },
          "execution_count": 39
        },
        {
          "output_type": "display_data",
          "data": {
            "image/png": "[encoded data removed]",
            "text/plain": [
              "<Figure size 432x288 with 1 Axes>"
            ]
          },
          "metadata": {
            "tags": [],
            "needs_background": "light"
          }
        }
      ]
    },
    {
      "cell_type": "code",
      "metadata": {
        "id": "Q5lsPnBYsCq5"
      },
      "source": [
        "from sklearn.metrics import mean_absolute_error\n",
        "from sklearn.metrics import mean_squared_error\n",
        "from math import sqrt\n",
        "def forecast_accuracy(forecast, actual):         \n",
        "    mae =  mean_absolute_error(actual, forecast)   \n",
        "    mse = mean_squared_error(actual, forecast)\n",
        "    rmse = sqrt(mse)         \n",
        "    return({\n",
        "        'mae':mae,\n",
        "        'mse':mse,\n",
        "        'rmse':rmse\n",
        "    })"
      ],
      "execution_count": null,
      "outputs": []
    },
    {
      "cell_type": "markdown",
      "metadata": {
        "id": "MgE2Kbf6KD89"
      },
      "source": [
        "####Mean Absolute Error, Mean Squared Error, Root Mean Squared Error (Accuracy Measurement)"
      ]
    },
    {
      "cell_type": "code",
      "metadata": {
        "colab": {
          "base_uri": "https://localhost:8080/"
        },
        "id": "uUhRg_uo0Y4S",
        "outputId": "8c0b2df2-22db-45b5-dd36-3860b9b6750d"
      },
      "source": [
        "error = forecast_accuracy(predictions,ground_truth)\n",
        "print (error)"
      ],
      "execution_count": null,
      "outputs": [
        {
          "output_type": "stream",
          "text": [
            "{'mae': 6.548922854550947, 'mse': 256.12495975597153, 'rmse': 16.00390451596021}\n"
          ],
          "name": "stdout"
        }
      ]
    },
    {
      "cell_type": "markdown",
      "metadata": {
        "id": "FeDvpmO6KD89"
      },
      "source": [
        "#### Predict next 1 hour of data to get intuition of meal event."
      ]
    },
    {
      "cell_type": "code",
      "metadata": {
        "colab": {
          "base_uri": "https://localhost:8080/",
          "height": 421
        },
        "id": "R3UPyf1oKD89",
        "outputId": "7488d587-9595-4cd0-be53-daf332462280"
      },
      "source": [
        "predictions = model.predict(train_size,(train_size-1)+12);\n",
        "grount_truth = test.head(12);\n",
        "res = pd.DataFrame();\n",
        "res['Predictions'] = predictions\n",
        "res['Actual'] = grount_truth\n",
        "res"
      ],
      "execution_count": null,
      "outputs": [
        {
          "output_type": "execute_result",
          "data": {
            "text/html": [
              "<div>\n",
              "<style scoped>\n",
              "    .dataframe tbody tr th:only-of-type {\n",
              "        vertical-align: middle;\n",
              "    }\n",
              "\n",
              "    .dataframe tbody tr th {\n",
              "        vertical-align: top;\n",
              "    }\n",
              "\n",
              "    .dataframe thead th {\n",
              "        text-align: right;\n",
              "    }\n",
              "</style>\n",
              "<table border=\"1\" class=\"dataframe\">\n",
              "  <thead>\n",
              "    <tr style=\"text-align: right;\">\n",
              "      <th></th>\n",
              "      <th>Predictions</th>\n",
              "      <th>Actual</th>\n",
              "    </tr>\n",
              "  </thead>\n",
              "  <tbody>\n",
              "    <tr>\n",
              "      <th>28080</th>\n",
              "      <td>89.901086</td>\n",
              "      <td>89.0</td>\n",
              "    </tr>\n",
              "    <tr>\n",
              "      <th>28081</th>\n",
              "      <td>88.220428</td>\n",
              "      <td>84.0</td>\n",
              "    </tr>\n",
              "    <tr>\n",
              "      <th>28082</th>\n",
              "      <td>82.727241</td>\n",
              "      <td>81.0</td>\n",
              "    </tr>\n",
              "    <tr>\n",
              "      <th>28083</th>\n",
              "      <td>80.267290</td>\n",
              "      <td>66.0</td>\n",
              "    </tr>\n",
              "    <tr>\n",
              "      <th>28084</th>\n",
              "      <td>62.983413</td>\n",
              "      <td>57.0</td>\n",
              "    </tr>\n",
              "    <tr>\n",
              "      <th>28085</th>\n",
              "      <td>54.660288</td>\n",
              "      <td>53.0</td>\n",
              "    </tr>\n",
              "    <tr>\n",
              "      <th>28086</th>\n",
              "      <td>51.726154</td>\n",
              "      <td>57.0</td>\n",
              "    </tr>\n",
              "    <tr>\n",
              "      <th>28087</th>\n",
              "      <td>57.565304</td>\n",
              "      <td>57.0</td>\n",
              "    </tr>\n",
              "    <tr>\n",
              "      <th>28088</th>\n",
              "      <td>57.037321</td>\n",
              "      <td>58.0</td>\n",
              "    </tr>\n",
              "    <tr>\n",
              "      <th>28089</th>\n",
              "      <td>58.290092</td>\n",
              "      <td>58.0</td>\n",
              "    </tr>\n",
              "    <tr>\n",
              "      <th>28090</th>\n",
              "      <td>58.138059</td>\n",
              "      <td>59.0</td>\n",
              "    </tr>\n",
              "    <tr>\n",
              "      <th>28091</th>\n",
              "      <td>59.298085</td>\n",
              "      <td>59.0</td>\n",
              "    </tr>\n",
              "  </tbody>\n",
              "</table>\n",
              "</div>"
            ],
            "text/plain": [
              "       Predictions  Actual\n",
              "28080    89.901086    89.0\n",
              "28081    88.220428    84.0\n",
              "28082    82.727241    81.0\n",
              "28083    80.267290    66.0\n",
              "28084    62.983413    57.0\n",
              "28085    54.660288    53.0\n",
              "28086    51.726154    57.0\n",
              "28087    57.565304    57.0\n",
              "28088    57.037321    58.0\n",
              "28089    58.290092    58.0\n",
              "28090    58.138059    59.0\n",
              "28091    59.298085    59.0"
            ]
          },
          "metadata": {
            "tags": []
          },
          "execution_count": 25
        }
      ]
    },
    {
      "cell_type": "code",
      "metadata": {
        "colab": {
          "base_uri": "https://localhost:8080/"
        },
        "id": "HsVMx2UKKD89",
        "outputId": "46e94042-3e07-4fba-b826-364c302d9c86"
      },
      "source": [
        "error = forecast_accuracy(predictions,grount_truth)\n",
        "print (error)"
      ],
      "execution_count": null,
      "outputs": [
        {
          "output_type": "stream",
          "text": [
            "{'mae': 3.0843077787082316, 'mse': 24.474699713825007, 'rmse': 4.947191093320027}\n"
          ],
          "name": "stdout"
        }
      ]
    },
    {
      "cell_type": "code",
      "metadata": {
        "colab": {
          "base_uri": "https://localhost:8080/",
          "height": 282
        },
        "id": "WHxBnYypKD89",
        "outputId": "53d5ca2e-ba04-4a1c-e111-6e7c8448bd28"
      },
      "source": [
        "res.plot()"
      ],
      "execution_count": null,
      "outputs": [
        {
          "output_type": "execute_result",
          "data": {
            "text/plain": [
              "<matplotlib.axes._subplots.AxesSubplot at 0x7efbec69e278>"
            ]
          },
          "metadata": {
            "tags": []
          },
          "execution_count": 27
        },
        {
          "output_type": "display_data",
          "data": {
            "image/png": "[encoded data removed]",
            "text/plain": [
              "<Figure size 432x288 with 1 Axes>"
            ]
          },
          "metadata": {
            "tags": [],
            "needs_background": "light"
          }
        }
      ]
    },
    {
      "cell_type": "code",
      "metadata": {
        "id": "hVQhHGKRKD89",
        "colab": {
          "base_uri": "https://localhost:8080/"
        },
        "outputId": "536f5c22-ff76-4aef-be77-de44845b9202"
      },
      "source": [
        "d = pd.read_csv(os.getcwd() + '/Final_Data.csv')\n",
        "\n",
        "bolus = d['Value Bolus']\n",
        "threshold = np.mean(data[train_size:])*0.4\n",
        "\n",
        "b_count = 0\n",
        "idx_g = []\n",
        "for i in range(train_size, (train_size-1)+len(test)):\n",
        "  if bolus[i] > 1.0:\n",
        "    b_count += 1\n",
        "    idx_g.append(i)\n",
        "\n",
        "count = 0\n",
        "idx = []\n",
        "for i in range(train_size, (train_size-1)+len(test)):\n",
        "  if abs(res['Predictions'][i] - res['Actual'][i]) > threshold:\n",
        "    count += 1\n",
        "    idx.append(i)\n",
        "\n",
        "print(\"Test Acc (%):\", count/b_count*100)"
      ],
      "execution_count": null,
      "outputs": [
        {
          "output_type": "stream",
          "text": [
            "Test Acc (%): 61.15702479338842\n"
          ],
          "name": "stdout"
        }
      ]
    }
  ]
}