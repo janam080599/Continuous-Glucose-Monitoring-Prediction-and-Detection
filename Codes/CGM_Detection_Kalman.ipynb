{
  "cells": [
    {
      "cell_type": "code",
      "source": [
        "from google.colab import drive\n",
        "drive.mount('/content/drive')"
      ],
      "metadata": {
        "colab": {
          "base_uri": "https://localhost:8080/"
        },
        "id": "UkZI2qrbWQG_",
        "outputId": "e0b81767-5ade-44b2-b3bf-306f02fc2d35"
      },
      "execution_count": 9,
      "outputs": [
        {
          "output_type": "stream",
          "name": "stdout",
          "text": [
            "Mounted at /content/drive\n"
          ]
        }
      ]
    },
    {
      "cell_type": "code",
      "source": [
        "%cd /content/drive/My\\ Drive/Project/Final_submission/Data"
      ],
      "metadata": {
        "colab": {
          "base_uri": "https://localhost:8080/"
        },
        "id": "tafwWVwpWh8W",
        "outputId": "f0c11a9a-b3fe-4cfa-8771-1218c10b4fc9"
      },
      "execution_count": 10,
      "outputs": [
        {
          "output_type": "stream",
          "name": "stdout",
          "text": [
            "/content/drive/My Drive/Project/Final_submission/Data\n"
          ]
        }
      ]
    },
    {
      "cell_type": "code",
      "execution_count": 11,
      "metadata": {
        "id": "7K2G-U4-WJse"
      },
      "outputs": [],
      "source": [
        "import matplotlib.pyplot as plt\n",
        "from numpy.random import normal\n",
        "import numpy as np\n",
        "import os\n",
        "import pandas as pd\n",
        "\n",
        "data = pd.read_csv(os.getcwd() + '/Final_Data.csv')"
      ]
    },
    {
      "cell_type": "code",
      "source": [
        "pip install filterpy==1.1.0"
      ],
      "metadata": {
        "colab": {
          "base_uri": "https://localhost:8080/"
        },
        "id": "JBxbvOsPXeou",
        "outputId": "38d9d232-2413-4dce-9d06-dc1cc27b53e8"
      },
      "execution_count": 13,
      "outputs": [
        {
          "output_type": "stream",
          "name": "stdout",
          "text": [
            "Collecting filterpy==1.1.0\n",
            "  Downloading filterpy-1.1.0.tar.gz (63 kB)\n",
            "\u001b[?25l\r\u001b[K     |█████▏                          | 10 kB 22.8 MB/s eta 0:00:01\r\u001b[K     |██████████▍                     | 20 kB 24.5 MB/s eta 0:00:01\r\u001b[K     |███████████████▋                | 30 kB 28.8 MB/s eta 0:00:01\r\u001b[K     |████████████████████▉           | 40 kB 29.4 MB/s eta 0:00:01\r\u001b[K     |██████████████████████████      | 51 kB 31.9 MB/s eta 0:00:01\r\u001b[K     |███████████████████████████████▏| 61 kB 34.6 MB/s eta 0:00:01\r\u001b[K     |████████████████████████████████| 63 kB 1.6 MB/s \n",
            "\u001b[?25hRequirement already satisfied: numpy in /usr/local/lib/python3.7/dist-packages (from filterpy==1.1.0) (1.19.5)\n",
            "Requirement already satisfied: scipy in /usr/local/lib/python3.7/dist-packages (from filterpy==1.1.0) (1.4.1)\n",
            "Requirement already satisfied: matplotlib in /usr/local/lib/python3.7/dist-packages (from filterpy==1.1.0) (3.2.2)\n",
            "Requirement already satisfied: kiwisolver>=1.0.1 in /usr/local/lib/python3.7/dist-packages (from matplotlib->filterpy==1.1.0) (1.3.2)\n",
            "Requirement already satisfied: cycler>=0.10 in /usr/local/lib/python3.7/dist-packages (from matplotlib->filterpy==1.1.0) (0.11.0)\n",
            "Requirement already satisfied: python-dateutil>=2.1 in /usr/local/lib/python3.7/dist-packages (from matplotlib->filterpy==1.1.0) (2.8.2)\n",
            "Requirement already satisfied: pyparsing!=2.0.4,!=2.1.2,!=2.1.6,>=2.0.1 in /usr/local/lib/python3.7/dist-packages (from matplotlib->filterpy==1.1.0) (3.0.6)\n",
            "Requirement already satisfied: six>=1.5 in /usr/local/lib/python3.7/dist-packages (from python-dateutil>=2.1->matplotlib->filterpy==1.1.0) (1.15.0)\n",
            "Building wheels for collected packages: filterpy\n",
            "  Building wheel for filterpy (setup.py) ... \u001b[?25l\u001b[?25hdone\n",
            "  Created wheel for filterpy: filename=filterpy-1.1.0-py3-none-any.whl size=85437 sha256=9bc6a6aa32a1ce67d2a76aa204d7e8b126b8ec3d1e315ad1f55d028fcde35f83\n",
            "  Stored in directory: /root/.cache/pip/wheels/5d/d1/d9/25c124a78a122e9d3b4d9c99daef4f818be8026ace6155de33\n",
            "Successfully built filterpy\n",
            "Installing collected packages: filterpy\n",
            "Successfully installed filterpy-1.1.0\n"
          ]
        }
      ]
    },
    {
      "cell_type": "code",
      "execution_count": 14,
      "metadata": {
        "id": "_Qdluhl8WJsj"
      },
      "outputs": [],
      "source": [
        "from filterpy.kalman import JulierSigmaPoints\n",
        "\n",
        "sigmas = JulierSigmaPoints(n=5, kappa=1)\n",
        "\n",
        "def fx(x, dt):\n",
        "    a = np.exp(0.1/x[4])\n",
        "    x[0] = x[0] - (10 * x[1] * x[0]) + (10 * x[2]) #G_s \n",
        "    x[2] =  (2 * (x[2])/a) - (x[3]/ a**2) #R_a\n",
        "    x[1] = x[1] + 10 # p1\n",
        "    x[4] = x[4] + 10 #t\n",
        "      \n",
        "    return x\n",
        "\n",
        "def hx(x):\n",
        "    return x[:1] "
      ]
    },
    {
      "cell_type": "code",
      "execution_count": 15,
      "metadata": {
        "id": "nQtZhEOYWJsl"
      },
      "outputs": [],
      "source": [
        "from numpy.random import randn\n",
        "from filterpy.kalman import UnscentedKalmanFilter\n",
        "from filterpy.common import Q_discrete_white_noise\n",
        "\n",
        "ukf = UnscentedKalmanFilter(dim_x=5, dim_z=1, dt=100., hx=hx, fx=fx, points=sigmas)\n",
        "ukf.P *= 1000\n",
        "ukf.R *= 10e8\n",
        "ukf.Q = np.array([[10e-6,0,0,0,0],[0,10e-3,0,0,0],[0,0,10e-3,0,0],[0,0,0,10e-2,0],[0,0,0,0,10e-1]])\n",
        "ukf.x = [118, 0.068,0,0,20]\n",
        "        #G_s, p_1, R_a(0), R_a(-1), t\n",
        "zs, xs = [], []\n",
        "for i in range(len(data)):\n",
        "    z = data.iloc[i,1].astype(int)\n",
        "    ukf.predict()\n",
        "    ukf.update(z)\n",
        "    xs.append(ukf.x[0])\n",
        "    zs.append(z)\n",
        "    \n",
        "\n"
      ]
    },
    {
      "cell_type": "code",
      "execution_count": 16,
      "metadata": {
        "id": "lDSl_2DdWJso"
      },
      "outputs": [],
      "source": [
        "error = 0\n",
        "for i in range(len(zs)):\n",
        "    diff = zs[i] - xs[i]\n",
        "    error += diff**2"
      ]
    },
    {
      "cell_type": "code",
      "execution_count": 17,
      "metadata": {
        "id": "Lbl5NGyZWJsq"
      },
      "outputs": [],
      "source": [
        "error = error/len(zs)"
      ]
    },
    {
      "cell_type": "code",
      "execution_count": 18,
      "metadata": {
        "colab": {
          "base_uri": "https://localhost:8080/"
        },
        "id": "N2Pvl5iZWJss",
        "outputId": "1f85d6ab-1545-4a10-8c2c-51dc3aef16d1"
      },
      "outputs": [
        {
          "output_type": "stream",
          "name": "stdout",
          "text": [
            "0.07472101816824654\n"
          ]
        }
      ],
      "source": [
        "print(error)"
      ]
    },
    {
      "cell_type": "code",
      "execution_count": 19,
      "metadata": {
        "id": "pN_gFQvhWJst"
      },
      "outputs": [],
      "source": [
        "accuracy = 100 - error"
      ]
    },
    {
      "cell_type": "code",
      "execution_count": 20,
      "metadata": {
        "colab": {
          "base_uri": "https://localhost:8080/"
        },
        "id": "Tf6NBlDBWJsu",
        "outputId": "9f8fb2f6-75dc-4c10-f545-b6b8f2ecfe91"
      },
      "outputs": [
        {
          "output_type": "stream",
          "name": "stdout",
          "text": [
            "99.92527898183175\n"
          ]
        }
      ],
      "source": [
        "print(accuracy)"
      ]
    },
    {
      "cell_type": "code",
      "execution_count": 21,
      "metadata": {
        "colab": {
          "base_uri": "https://localhost:8080/",
          "height": 388
        },
        "id": "OWFfdpBiWJsw",
        "outputId": "a6b81e52-d089-4baa-e927-81b5f870f470"
      },
      "outputs": [
        {
          "output_type": "display_data",
          "data": {
            "image/png": "[encoded data removed]",
            "text/plain": [
              "<Figure size 2000x500 with 1 Axes>"
            ]
          },
          "metadata": {
            "needs_background": "light"
          }
        }
      ],
      "source": [
        "plt.figure(num=None, figsize=(20, 5), dpi=100)\n",
        "plt.plot(xs[0:100],color='red')\n",
        "plt.plot(zs[0:100]);"
      ]
    },
    {
      "cell_type": "code",
      "execution_count": null,
      "metadata": {
        "id": "WxSaSNHrWJsz"
      },
      "outputs": [],
      "source": [
        ""
      ]
    }
  ],
  "metadata": {
    "kernelspec": {
      "display_name": "Python 3",
      "language": "python",
      "name": "python3"
    },
    "language_info": {
      "codemirror_mode": {
        "name": "ipython",
        "version": 3
      },
      "file_extension": ".py",
      "mimetype": "text/x-python",
      "name": "python",
      "nbconvert_exporter": "python",
      "pygments_lexer": "ipython3",
      "version": "3.8.5"
    },
    "colab": {
      "name": "CGM_Detection_Kalman.ipynb",
      "provenance": []
    }
  },
  "nbformat": 4,
  "nbformat_minor": 0
}